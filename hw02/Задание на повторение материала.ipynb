{
 "cells": [
  {
   "cell_type": "markdown",
   "id": "bc91180e",
   "metadata": {},
   "source": [
    "### Задание №1"
   ]
  },
  {
   "cell_type": "markdown",
   "id": "71fe765b",
   "metadata": {},
   "source": [
    "Создать одномерный массив Numpy под названием a из 12 последовательных целых чисел чисел от 12 до 24 невключительно"
   ]
  },
  {
   "cell_type": "code",
   "execution_count": 1,
   "id": "d575adcf",
   "metadata": {},
   "outputs": [],
   "source": [
    "import numpy as np"
   ]
  },
  {
   "cell_type": "code",
   "execution_count": 2,
   "id": "6bf91e2d",
   "metadata": {},
   "outputs": [
    {
     "data": {
      "text/plain": [
       "array([12., 13., 14., 15., 16., 17., 18., 19., 20., 21., 22., 23.])"
      ]
     },
     "execution_count": 2,
     "metadata": {},
     "output_type": "execute_result"
    }
   ],
   "source": [
    "a = np.linspace(12, 24, num = 12, endpoint = False)\n",
    "a"
   ]
  },
  {
   "cell_type": "markdown",
   "id": "41db7908",
   "metadata": {},
   "source": [
    "### Задание №2"
   ]
  },
  {
   "cell_type": "markdown",
   "id": "df443a7e",
   "metadata": {},
   "source": [
    "Создать 5 двумерных массивов разной формы из массива a. Не использовать в аргументах метода reshape число -1."
   ]
  },
  {
   "cell_type": "code",
   "execution_count": 3,
   "id": "b1d2d736",
   "metadata": {},
   "outputs": [
    {
     "data": {
      "text/plain": [
       "(array([[12.],\n",
       "        [13.],\n",
       "        [14.],\n",
       "        [15.],\n",
       "        [16.],\n",
       "        [17.],\n",
       "        [18.],\n",
       "        [19.],\n",
       "        [20.],\n",
       "        [21.],\n",
       "        [22.],\n",
       "        [23.]]),\n",
       " array([[12., 13.],\n",
       "        [14., 15.],\n",
       "        [16., 17.],\n",
       "        [18., 19.],\n",
       "        [20., 21.],\n",
       "        [22., 23.]]),\n",
       " array([[12., 13., 14.],\n",
       "        [15., 16., 17.],\n",
       "        [18., 19., 20.],\n",
       "        [21., 22., 23.]]),\n",
       " array([[12., 13., 14., 15.],\n",
       "        [16., 17., 18., 19.],\n",
       "        [20., 21., 22., 23.]]),\n",
       " array([[12., 13., 14., 15., 16., 17.],\n",
       "        [18., 19., 20., 21., 22., 23.]]))"
      ]
     },
     "execution_count": 3,
     "metadata": {},
     "output_type": "execute_result"
    }
   ],
   "source": [
    "a1 = a.reshape((12, 1))\n",
    "a2 = a.reshape((6, 2))\n",
    "a3 = a.reshape((4, 3))\n",
    "a4 = a.reshape((3, 4))\n",
    "a5 = a.reshape((2, 6))\n",
    "a1, a2, a3, a4, a5"
   ]
  },
  {
   "cell_type": "markdown",
   "id": "3f9adfc1",
   "metadata": {},
   "source": [
    "### Задание №3"
   ]
  },
  {
   "cell_type": "markdown",
   "id": "a215b374",
   "metadata": {},
   "source": [
    "Создать 5 двумерных массивов разной формы из массива a. Использовать в аргументах метода reshape число -1 (в трех примерах - для обозначения числа столбцов, в двух - для строк)."
   ]
  },
  {
   "cell_type": "code",
   "execution_count": 4,
   "id": "0e708348",
   "metadata": {},
   "outputs": [
    {
     "data": {
      "text/plain": [
       "(array([[12.],\n",
       "        [13.],\n",
       "        [14.],\n",
       "        [15.],\n",
       "        [16.],\n",
       "        [17.],\n",
       "        [18.],\n",
       "        [19.],\n",
       "        [20.],\n",
       "        [21.],\n",
       "        [22.],\n",
       "        [23.]]),\n",
       " array([[12., 13.],\n",
       "        [14., 15.],\n",
       "        [16., 17.],\n",
       "        [18., 19.],\n",
       "        [20., 21.],\n",
       "        [22., 23.]]),\n",
       " array([[12., 13., 14.],\n",
       "        [15., 16., 17.],\n",
       "        [18., 19., 20.],\n",
       "        [21., 22., 23.]]),\n",
       " array([[12., 13., 14., 15.],\n",
       "        [16., 17., 18., 19.],\n",
       "        [20., 21., 22., 23.]]),\n",
       " array([[12., 13., 14., 15., 16., 17.],\n",
       "        [18., 19., 20., 21., 22., 23.]]))"
      ]
     },
     "execution_count": 4,
     "metadata": {},
     "output_type": "execute_result"
    }
   ],
   "source": [
    "a1 = a.reshape((12, -1))\n",
    "a2 = a.reshape((6, -1))\n",
    "a3 = a.reshape((-1, 3))\n",
    "a4 = a.reshape((-1, 4))\n",
    "a5 = a.reshape((-1, 6))\n",
    "a1, a2, a3, a4, a5"
   ]
  },
  {
   "cell_type": "markdown",
   "id": "3276aec5",
   "metadata": {},
   "source": [
    "### Задание №4"
   ]
  },
  {
   "cell_type": "markdown",
   "id": "0da68903",
   "metadata": {},
   "source": [
    "Можно ли массив Numpy, состоящий из одного столбца и 12 строк, назвать одномерным?"
   ]
  },
  {
   "cell_type": "markdown",
   "id": "50f085e9",
   "metadata": {},
   "source": [
    "Нет, тк структура, подходящая под это описание - вложенный массив в массив. Конечно, мы можем договориться, что будем считать одномерный массив как конкретнюю строку или столбец, но это будет частность и не отражать реальное положение дел. Ниже я преобразил массив a к виду 1 столбец и 12 строк, а так же 12 столбцов и 1 строка."
   ]
  },
  {
   "cell_type": "code",
   "execution_count": 5,
   "id": "f3876f8a",
   "metadata": {},
   "outputs": [
    {
     "data": {
      "text/plain": [
       "(array([[12.],\n",
       "        [13.],\n",
       "        [14.],\n",
       "        [15.],\n",
       "        [16.],\n",
       "        [17.],\n",
       "        [18.],\n",
       "        [19.],\n",
       "        [20.],\n",
       "        [21.],\n",
       "        [22.],\n",
       "        [23.]]),\n",
       " (12, 1),\n",
       " numpy.ndarray,\n",
       " numpy.ndarray,\n",
       " array([[12., 13., 14., 15., 16., 17., 18., 19., 20., 21., 22., 23.]]),\n",
       " (1, 12),\n",
       " numpy.ndarray,\n",
       " numpy.ndarray)"
      ]
     },
     "execution_count": 5,
     "metadata": {},
     "output_type": "execute_result"
    }
   ],
   "source": [
    "a1 = a.reshape((12, 1))\n",
    "a2 = a.reshape((1, 12))\n",
    "a1, a1.shape, type(a1), type(a1[0]), a2, a2.shape, type(a2), type(a2[0])\n"
   ]
  },
  {
   "cell_type": "markdown",
   "id": "2df5f932",
   "metadata": {},
   "source": [
    "### Задание №5"
   ]
  },
  {
   "cell_type": "markdown",
   "id": "3c0ca594",
   "metadata": {},
   "source": [
    "Создать массив из 3 строк и 4 столбцов, состоящий из случайных чисел с плавающей запятой из нормального распределения со средним, равным 0 и среднеквадратичным отклонением, равным 1.0. Получить из этого массива одномерный массив с таким же атрибутом size, как и исходный массив."
   ]
  },
  {
   "cell_type": "code",
   "execution_count": 6,
   "id": "afa99fd3",
   "metadata": {},
   "outputs": [
    {
     "data": {
      "text/plain": [
       "array([[ 0.62042688,  0.1913639 ,  1.36729019, -3.33639476],\n",
       "       [-0.90276959, -0.1022031 , -1.22529568,  0.56603116],\n",
       "       [ 0.94106943,  1.39284349, -0.2643548 ,  1.17177515]])"
      ]
     },
     "execution_count": 6,
     "metadata": {},
     "output_type": "execute_result"
    }
   ],
   "source": [
    "np.random.normal(size = (3,4))"
   ]
  },
  {
   "cell_type": "markdown",
   "id": "e712729f",
   "metadata": {},
   "source": [
    "### Задание №6"
   ]
  },
  {
   "cell_type": "markdown",
   "id": "a92397e3",
   "metadata": {},
   "source": [
    "Создать массив a, состоящий из целых чисел, убывающих от 20 до 0 невключительно с интервалом 2."
   ]
  },
  {
   "cell_type": "code",
   "execution_count": 7,
   "id": "27f36718",
   "metadata": {},
   "outputs": [
    {
     "data": {
      "text/plain": [
       "array([20, 18, 16, 14, 12, 10,  8,  6,  4,  2])"
      ]
     },
     "execution_count": 7,
     "metadata": {},
     "output_type": "execute_result"
    }
   ],
   "source": [
    "a = np.arange(20,0,-2)\n",
    "a"
   ]
  },
  {
   "cell_type": "markdown",
   "id": "4ac80459",
   "metadata": {},
   "source": [
    "### Задание №7"
   ]
  },
  {
   "cell_type": "markdown",
   "id": "e4b529c2",
   "metadata": {},
   "source": [
    "Создать массив b, состоящий из 1 строки и 10 столбцов: целых чисел, убывающих от 20 до 1 невключительно с интервалом 2. В чем разница между массивами a и b?"
   ]
  },
  {
   "cell_type": "code",
   "execution_count": 8,
   "id": "b14a69bb",
   "metadata": {},
   "outputs": [
    {
     "data": {
      "text/plain": [
       "(array([[20, 18, 16, 14, 12, 10,  8,  6,  4,  2]]),\n",
       " (1, 10),\n",
       " numpy.ndarray,\n",
       " numpy.ndarray,\n",
       " array([20, 18, 16, 14, 12, 10,  8,  6,  4,  2]),\n",
       " (10,),\n",
       " numpy.ndarray,\n",
       " numpy.int32)"
      ]
     },
     "execution_count": 8,
     "metadata": {},
     "output_type": "execute_result"
    }
   ],
   "source": [
    "b = a.reshape((1,-1))\n",
    "b, b.shape, type(b), type(b[0]), a, a.shape,type(a), type(a[0])"
   ]
  },
  {
   "cell_type": "markdown",
   "id": "de4e2010",
   "metadata": {},
   "source": [
    "Делаем вывод, что разница в том, что в случае массива a используется одномерный массив, во втором случае используется двумерный массив"
   ]
  },
  {
   "cell_type": "markdown",
   "id": "3f3cd3db",
   "metadata": {},
   "source": [
    "### Задание №8"
   ]
  },
  {
   "cell_type": "markdown",
   "id": "88932b5e",
   "metadata": {},
   "source": [
    "Вертикально соединить массивы a и b. a - двумерный массив из нулей, число строк которого больше 1 и на 1 меньше, чем число строк двумерного массива b, состоящего из единиц. Итоговый массив v должен иметь атрибут size, равный 10."
   ]
  },
  {
   "cell_type": "code",
   "execution_count": 9,
   "id": "8e5f1d68",
   "metadata": {},
   "outputs": [
    {
     "data": {
      "text/plain": [
       "(array([[0, 0],\n",
       "        [0, 0]]),\n",
       " array([[1, 1],\n",
       "        [1, 1],\n",
       "        [1, 1]]),\n",
       " array([[0, 0],\n",
       "        [0, 0],\n",
       "        [1, 1],\n",
       "        [1, 1],\n",
       "        [1, 1]]),\n",
       " 4,\n",
       " 6,\n",
       " 10)"
      ]
     },
     "execution_count": 9,
     "metadata": {},
     "output_type": "execute_result"
    }
   ],
   "source": [
    "a = np.array([[0, 0],[0, 0]])\n",
    "b = np.array([[1, 1],[1, 1],[1, 1]])\n",
    "v = np.vstack((a, b))\n",
    "a, b, v, a.size, b.size,v.size"
   ]
  },
  {
   "cell_type": "markdown",
   "id": "773db9b8",
   "metadata": {},
   "source": [
    "### Задание №9"
   ]
  },
  {
   "cell_type": "markdown",
   "id": "09232f2d",
   "metadata": {},
   "source": [
    "Создать одномерный массив а, состоящий из последовательности целых чисел от 0 до 12. Поменять форму этого массива, чтобы получилась матрица A (двумерный массив Numpy), состоящая из 4 строк и 3 столбцов. Получить матрицу At путем транспонирования матрицы A. Получить матрицу B, умножив матрицу A на матрицу At с помощью матричного умножения. Какой размер имеет матрица B? Получится ли вычислить обратную матрицу для матрицы B и почему?"
   ]
  },
  {
   "cell_type": "code",
   "execution_count": 10,
   "id": "9455f2f1",
   "metadata": {},
   "outputs": [
    {
     "data": {
      "text/plain": [
       "(array([[  5,  14,  23,  32],\n",
       "        [ 14,  50,  86, 122],\n",
       "        [ 23,  86, 149, 212],\n",
       "        [ 32, 122, 212, 302]]),\n",
       " (4, 4),\n",
       " 16,\n",
       " True)"
      ]
     },
     "execution_count": 10,
     "metadata": {},
     "output_type": "execute_result"
    }
   ],
   "source": [
    "a = np.arange(0,12)\n",
    "A = a.reshape((4,3))\n",
    "At = np.transpose(A)\n",
    "B = np.matmul(A, At)\n",
    "B, B.shape, B.size, np.linalg.det(B) == 0"
   ]
  },
  {
   "cell_type": "markdown",
   "id": "0e746332",
   "metadata": {},
   "source": [
    "Не смотря на то, что размер матрицы B равен 16, определитель матрицы равен нулю, поэтому обратную матрицу вычислить нельзя"
   ]
  },
  {
   "cell_type": "markdown",
   "id": "dacbedec",
   "metadata": {},
   "source": [
    "### Задание №10"
   ]
  },
  {
   "cell_type": "markdown",
   "id": "80e880f8",
   "metadata": {},
   "source": [
    "Инициализируйте генератор случайных числе с помощью объекта seed, равного 42."
   ]
  },
  {
   "cell_type": "code",
   "execution_count": 11,
   "id": "3b4d5b8b",
   "metadata": {},
   "outputs": [],
   "source": [
    "np.random.seed(42)"
   ]
  },
  {
   "cell_type": "markdown",
   "id": "aeda8c3f",
   "metadata": {},
   "source": [
    "### Задание №11"
   ]
  },
  {
   "cell_type": "markdown",
   "id": "8f46e9e5",
   "metadata": {},
   "source": [
    "Создайте одномерный массив c, составленный из последовательности 16-ти случайных равномерно распределенных целых чисел от 0 до 16 невключительно."
   ]
  },
  {
   "cell_type": "code",
   "execution_count": 12,
   "id": "aba6dab6",
   "metadata": {},
   "outputs": [
    {
     "data": {
      "text/plain": [
       "array([ 6,  3, 12, 14, 10,  7, 12,  4,  6,  9,  2,  6, 10, 10,  7,  4])"
      ]
     },
     "execution_count": 12,
     "metadata": {},
     "output_type": "execute_result"
    }
   ],
   "source": [
    "c = np.random.randint(0,16, size=16)\n",
    "c"
   ]
  },
  {
   "cell_type": "markdown",
   "id": "9e412e5f",
   "metadata": {},
   "source": [
    "### Задание №12"
   ]
  },
  {
   "cell_type": "markdown",
   "id": "e94675f7",
   "metadata": {},
   "source": [
    "Поменяйте его форму так, чтобы получилась квадратная матрица C. Получите матрицу D, поэлементно прибавив матрицу B из предыдущего вопроса к матрице C, умноженной на 10. Вычислите определитель, ранг и обратную матрицу D_inv для D."
   ]
  },
  {
   "cell_type": "code",
   "execution_count": 13,
   "id": "56e0e185",
   "metadata": {},
   "outputs": [
    {
     "data": {
      "text/plain": [
       "(array([[ 6,  3, 12, 14],\n",
       "        [10,  7, 12,  4],\n",
       "        [ 6,  9,  2,  6],\n",
       "        [10, 10,  7,  4]]),\n",
       " array([[ 65,  44, 143, 172],\n",
       "        [114, 120, 206, 162],\n",
       "        [ 83, 176, 169, 272],\n",
       "        [132, 222, 282, 342]]),\n",
       " -28511999.999999944,\n",
       " 4,\n",
       " array([[ 0.00935396,  0.04486532,  0.05897517, -0.07286055],\n",
       "        [-0.01503577, -0.00122896, -0.00192971,  0.00967873],\n",
       "        [-0.00356692, -0.01782828, -0.04152146,  0.04326178],\n",
       "        [ 0.00909091, -0.00181818,  0.01272727, -0.01090909]]))"
      ]
     },
     "execution_count": 13,
     "metadata": {},
     "output_type": "execute_result"
    }
   ],
   "source": [
    "C = c.reshape((4,4))\n",
    "D = B + (C*10)\n",
    "Ddet = np.linalg.det(D)\n",
    "Drang = np.linalg.matrix_rank(D)\n",
    "D_inv = np.linalg.inv(D)\n",
    "C, D, Ddet, Drang, D_inv"
   ]
  },
  {
   "cell_type": "markdown",
   "id": "30e60acf",
   "metadata": {},
   "source": [
    "### Задание №13"
   ]
  },
  {
   "cell_type": "markdown",
   "id": "3e232a50",
   "metadata": {},
   "source": [
    "Приравняйте к нулю отрицательные числа в матрице D_inv, а положительные - к единице. Убедитесь, что в матрице D_inv остались только нули и единицы. С помощью функции numpy.where, используя матрицу D_inv в качестве маски, а матрицы B и C - в качестве источников данных, получите матрицу E размером 4x4.  Элементы матрицы E, для которых соответствующий элемент матрицы D_inv равен 1, должны быть равны соответствующему элементу матрицы B, а элементы матрицы E, для которых соответствующий элемент матрицы D_inv равен 0, должны быть равны соответствующему элементу матрицы C."
   ]
  },
  {
   "cell_type": "code",
   "execution_count": 15,
   "id": "acd05c49",
   "metadata": {},
   "outputs": [
    {
     "data": {
      "text/plain": [
       "(array([[1, 1, 1, 0],\n",
       "        [0, 0, 0, 1],\n",
       "        [0, 0, 0, 1],\n",
       "        [1, 0, 1, 0]]),\n",
       " array([[  5,  14,  23,  32],\n",
       "        [ 14,  50,  86, 122],\n",
       "        [ 23,  86, 149, 212],\n",
       "        [ 32, 122, 212, 302]]),\n",
       " array([[ 6,  3, 12, 14],\n",
       "        [10,  7, 12,  4],\n",
       "        [ 6,  9,  2,  6],\n",
       "        [10, 10,  7,  4]]),\n",
       " array([[  5,  14,  23,  14],\n",
       "        [ 10,   7,  12, 122],\n",
       "        [  6,   9,   2, 212],\n",
       "        [ 32,  10, 212,   4]]))"
      ]
     },
     "execution_count": 15,
     "metadata": {},
     "output_type": "execute_result"
    }
   ],
   "source": [
    "D_inv = np.greater(D_inv, 0).astype('int32')\n",
    "E = np.where(D_inv, B, C)\n",
    "D_inv, B, C, E"
   ]
  }
 ],
 "metadata": {
  "kernelspec": {
   "display_name": "Python 3 (ipykernel)",
   "language": "python",
   "name": "python3"
  },
  "language_info": {
   "codemirror_mode": {
    "name": "ipython",
    "version": 3
   },
   "file_extension": ".py",
   "mimetype": "text/x-python",
   "name": "python",
   "nbconvert_exporter": "python",
   "pygments_lexer": "ipython3",
   "version": "3.9.7"
  }
 },
 "nbformat": 4,
 "nbformat_minor": 5
}
